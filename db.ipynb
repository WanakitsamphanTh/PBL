{
 "cells": [
  {
   "cell_type": "markdown",
   "metadata": {},
   "source": []
  },
  {
   "cell_type": "code",
   "execution_count": null,
   "metadata": {},
   "outputs": [],
   "source": [
    "! pip install mysql-connector-python"
   ]
  },
  {
   "cell_type": "code",
   "execution_count": null,
   "metadata": {},
   "outputs": [],
   "source": [
    "from mysql.connector import connect, Error\n",
    "import numpy as np\n",
    "import pandas as pd"
   ]
  },
  {
   "cell_type": "markdown",
   "metadata": {},
   "source": [
    "Add data to database"
   ]
  },
  {
   "cell_type": "code",
   "execution_count": null,
   "metadata": {},
   "outputs": [],
   "source": [
    "df = pd.read_csv('./products_db.csv',delimiter=',')\n",
    "print(df)"
   ]
  },
  {
   "cell_type": "code",
   "execution_count": null,
   "metadata": {},
   "outputs": [],
   "source": [
    "# CREATE TABLE\n",
    "try:\n",
    "    with connect(\n",
    "        host=\"localhost\",\n",
    "        user=\"root\",\n",
    "        password=\"\",\n",
    "        database=\"astem_products\"\n",
    "    ) as connection:\n",
    "        with connection.cursor() as cursor:\n",
    "            cursor.execute(\"CREATE TABLE products (\"\n",
    "                           +\"id INT NOT NULL PRIMARY KEY,\"\n",
    "                           +\"product VARCHAR(30),\"\n",
    "                           +\"price INT,\"\n",
    "                           +\"size INT,\"\n",
    "                           +\"weight FLOAT(2,2),\"\n",
    "                           +\"in_stock INT,\"\n",
    "                           +\"delivery DATE\"\n",
    "                           \");\")\n",
    "except Error as e:\n",
    "    print(e)"
   ]
  },
  {
   "cell_type": "code",
   "execution_count": 60,
   "metadata": {},
   "outputs": [],
   "source": [
    "# INSERT DATA\n",
    "try:\n",
    "    with connect(\n",
    "        host=\"localhost\",\n",
    "        user=\"root\",\n",
    "        password=\"\",\n",
    "        database=\"astem_products\"\n",
    "    ) as connection:\n",
    "        with connection.cursor() as cursor:\n",
    "            for ind in df.index:\n",
    "                query = 'INSERT INTO products VALUES (%d,\"%s\",%d,%d,%f,%d,\"%s\");'% (ind,df['product'][ind],df['price'][ind],\n",
    "                                                                                    df['size'][ind],df['weight'][ind],df['in_stock'][ind],\n",
    "                                                                                    df['delivery'][ind])\n",
    "                cursor.execute(query)\n",
    "            connection.commit()\n",
    "except Error as e:\n",
    "    print(e)"
   ]
  },
  {
   "cell_type": "code",
   "execution_count": 61,
   "metadata": {},
   "outputs": [
    {
     "name": "stdout",
     "output_type": "stream",
     "text": [
      "[(0, 'シーリングディフューザー', 1000, 100, 0.6, 1, None), (1, '吹出口', 2000, 35, 0.2, 1, None), (2, '吸込口', 2000, 60, 0.2, 1, None), (3, 'ユニバーサルグリル', 1200, 200, 0.99, 1, None), (4, 'ガラリ', 1500, 350, 0.9, 1, None), (5, '防火ダンパー', 3000, 420, 0.8, 1, None), (6, '一般ダンパー', 4300, 500, 0.4, 1, None), (7, '排煙口', 1800, 60, 0.4, 1, None), (8, 'フィルターケーシング', 2000, 210, 0.1, 1, None), (9, 'スリットグリル', 5400, 300, 0.2, 1, None), (10, 'ノズル', 1000, 160, 0.3, 0, None), (11, 'ラインディフューザー', 3400, 80, 0.1, 1, None), (12, 'エアフィルター', 4100, 80, 0.2, 0, None)]\n"
     ]
    }
   ],
   "source": [
    "# TEST QUERY\n",
    "try:\n",
    "    with connect(\n",
    "        host=\"localhost\",\n",
    "        user=\"root\",\n",
    "        password=\"\",\n",
    "        database=\"astem_products\"\n",
    "    ) as connection:\n",
    "        with connection.cursor() as cursor:\n",
    "            cursor.execute('SELECT * FROM products;')\n",
    "            result = cursor.fetchall()\n",
    "            print(result)\n",
    "except Error as e:\n",
    "    print(e)"
   ]
  },
  {
   "cell_type": "code",
   "execution_count": null,
   "metadata": {},
   "outputs": [],
   "source": []
  }
 ],
 "metadata": {
  "kernelspec": {
   "display_name": "torch",
   "language": "python",
   "name": "python3"
  },
  "language_info": {
   "codemirror_mode": {
    "name": "ipython",
    "version": 3
   },
   "file_extension": ".py",
   "mimetype": "text/x-python",
   "name": "python",
   "nbconvert_exporter": "python",
   "pygments_lexer": "ipython3",
   "version": "3.11.9"
  }
 },
 "nbformat": 4,
 "nbformat_minor": 2
}
